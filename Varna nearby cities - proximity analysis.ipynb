{
 "cells": [
  {
   "cell_type": "code",
   "execution_count": 1,
   "id": "0ccd8f79",
   "metadata": {},
   "outputs": [],
   "source": [
    "from ipyleaflet import Map, Marker, CircleMarker, basemaps, LayersControl\n",
    "from geopy.geocoders import Nominatim\n",
    "from geopy.distance import great_circle\n"
   ]
  },
  {
   "cell_type": "code",
   "execution_count": 2,
   "id": "cfc3b780",
   "metadata": {},
   "outputs": [
    {
     "name": "stdout",
     "output_type": "stream",
     "text": [
      "Enter a city to find out the nearest ones:Varna\n",
      "Varna coordinates: Varna: (43.2052135, 27.860202452255194)\n"
     ]
    },
    {
     "data": {
      "application/vnd.jupyter.widget-view+json": {
       "model_id": "5728131dfc084e6096410536029ceac2",
       "version_major": 2,
       "version_minor": 0
      },
      "text/plain": [
       "Map(center=[43.2052135, 27.860202452255194], controls=(ZoomControl(options=['position', 'zoom_in_text', 'zoom_…"
      ]
     },
     "metadata": {},
     "output_type": "display_data"
    }
   ],
   "source": [
    "# Function to get the geographic coordinates (latitude and longitude) of a city using geocoding\n",
    "def geocode_city(city_name):\n",
    "  geolocator = Nominatim(user_agent=\"geo_analysis\")\n",
    "  location = geolocator.geocode(city_name) #get the geo data\n",
    "  return (location.latitude, location.longitude)\n",
    "\n",
    "# Function to calculate the distance between two geographical points using the great-circle distance formula\n",
    "def calculate_distance(point1, point2):\n",
    "  return great_circle(point1, point2).kilometers\n",
    "\n",
    "# Main block of the script:\n",
    "if __name__ == \"__main__\":\n",
    "  city_name = input(\"Enter a city to find out the nearest ones:\")\n",
    "  city_coords = geocode_city(city_name)\n",
    "  print(f\"{city_name} coordinates: {city_name}: {city_coords}\")\n",
    "\n",
    " # Dictionary containing the coordinates of some major cities\n",
    "  big_cities = {\n",
    "      \"Sofia\": (42.6977, 23.3219),\n",
    "       \"Varna\": (43.2141, 27.9147)}\n",
    "# Dictionary to store nearby big cities within 500 km of the input city\n",
    "  nearby_cities = {}\n",
    "  for city, coords in big_cities.items():\n",
    "    distance = calculate_distance(city_coords, coords)\n",
    "    if distance <= 200:\n",
    "      nearby_cities[city] = coords\n",
    "    # Add a marker for the input city \n",
    "  m = Map(center=(city_coords[0],city_coords[1]), zoom=8, basemap=basemaps.OpenStreetMap.Mapnik)\n",
    "  input_city_marker = Marker(location=(city_coords[0],city_coords[1]), title=city_name)\n",
    "  m.add_layer(input_city_marker)\n",
    "\n",
    "    # Loop through the nearby cities and add a circle marker for each city\n",
    "  for city, coords in nearby_cities.items():\n",
    "    marker = CircleMarker(location=(coords[0],coords[1]), radius=7, color='green', fill_color='yellow', fill_opacity=0.6)\n",
    "    m.add_layer(marker)\n",
    "    \n",
    "  m.add_control(LayersControl())\n",
    "  display(m)"
   ]
  },
  {
   "cell_type": "code",
   "execution_count": null,
   "id": "bf321f4b",
   "metadata": {},
   "outputs": [],
   "source": []
  },
  {
   "cell_type": "code",
   "execution_count": null,
   "id": "e7cd25c7",
   "metadata": {},
   "outputs": [],
   "source": []
  }
 ],
 "metadata": {
  "kernelspec": {
   "display_name": "Python 3 (ipykernel)",
   "language": "python",
   "name": "python3"
  },
  "language_info": {
   "codemirror_mode": {
    "name": "ipython",
    "version": 3
   },
   "file_extension": ".py",
   "mimetype": "text/x-python",
   "name": "python",
   "nbconvert_exporter": "python",
   "pygments_lexer": "ipython3",
   "version": "3.11.5"
  }
 },
 "nbformat": 4,
 "nbformat_minor": 5
}
