{
 "cells": [
  {
   "cell_type": "code",
   "execution_count": 1,
   "id": "7413826e",
   "metadata": {},
   "outputs": [],
   "source": [
    "from geopy.geocoders import Nominatim"
   ]
  },
  {
   "cell_type": "code",
   "execution_count": 14,
   "id": "abeacf6e",
   "metadata": {},
   "outputs": [
    {
     "name": "stdout",
     "output_type": "stream",
     "text": [
      "Address: 2 Nezavisimost Square, Varna, 9000, Bulgaria\n",
      "Latitude: 43.20434195, Longitude: 27.91216445\n"
     ]
    }
   ],
   "source": [
    "# Initialize a geolocator object using the Nominatim geocoding service with a user-defined user agent\n",
    "geolocator = Nominatim(user_agent=\"geo_coder\")\n",
    "\n",
    "# Define the address or place to be geocoded\n",
    "place = \"2 Nezavisimost Square, Varna, 9000, Bulgaria\"\n",
    "\n",
    "# Try to perform geocoding and handle exceptions if any occur\n",
    "try:\n",
    "    # Use the geolocator to geocode the place and get its location details (latitude and longitude)\n",
    "    location = geolocator.geocode(place)\n",
    "    \n",
    "    # Check if the location was successfully found\n",
    "    if location:\n",
    "        # Print the address\n",
    "        print(f\"Address: {place}\")\n",
    "        # Print the latitude and longitude of the location\n",
    "        print(f\"Latitude: {location.latitude}, Longitude: {location.longitude}\")\n",
    "\n",
    "# Catch any exceptions that occur during geocoding\n",
    "except Exception as e:\n",
    "    # Print an error message with the exception details\n",
    "    print(f\"Error: {e}\")\n"
   ]
  },
  {
   "cell_type": "code",
   "execution_count": 17,
   "id": "11b04b5f",
   "metadata": {},
   "outputs": [
    {
     "name": "stdout",
     "output_type": "stream",
     "text": [
      "Latitude: 43.2127\n",
      "Longitude: 27.9434\n",
      "Address: Делфинариум, бул. Княз Борис I, кв. Чайка, Варна, Приморски, Варна, 9005, България\n"
     ]
    }
   ],
   "source": [
    "# Initialize a geolocator object using the Nominatim geocoding service with a user-defined user agent\n",
    "geolocator = Nominatim(user_agent=\"geo_coder\")\n",
    "\n",
    "# Define the coordinates (latitude and longitude) for reverse geocoding\n",
    "#The below coordinates belong to Varna Dolphinarium.\n",
    "latitude = 43.2127\n",
    "longitude = 27.9434\n",
    "\n",
    "# Try to perform reverse geocoding and handle exceptions if any occur\n",
    "try:\n",
    "    # Use the geolocator to reverse geocode the given latitude and longitude to get the location details (address)\n",
    "    # The 'exactly_one=True' parameter ensures that only one address is returned\n",
    "    location = geolocator.reverse((latitude, longitude), exactly_one=True)\n",
    "    \n",
    "    # Check if a location (address) was successfully found\n",
    "    if location:\n",
    "        # Print the latitude and longitude\n",
    "        print(f\"Latitude: {latitude}\")\n",
    "        print(f\"Longitude: {longitude}\")\n",
    "        print(f\"Address: {location.address}\") # Print the address corresponding to the coordinates\n",
    "\n",
    "    else:\n",
    "        # If no address is found, print a message indicating so\n",
    "        print(f\"No address found for coordinates: Latitude {latitude}, Longitude {longitude}\")\n",
    "\n",
    "# Catch any exceptions that occur during reverse geocoding\n",
    "except Exception as e:\n",
    "    # Print an error message with the exception details\n",
    "    print(f\"Error: {e}\")"
   ]
  },
  {
   "cell_type": "code",
   "execution_count": null,
   "id": "293a0078",
   "metadata": {},
   "outputs": [],
   "source": []
  }
 ],
 "metadata": {
  "kernelspec": {
   "display_name": "Python 3 (ipykernel)",
   "language": "python",
   "name": "python3"
  },
  "language_info": {
   "codemirror_mode": {
    "name": "ipython",
    "version": 3
   },
   "file_extension": ".py",
   "mimetype": "text/x-python",
   "name": "python",
   "nbconvert_exporter": "python",
   "pygments_lexer": "ipython3",
   "version": "3.11.5"
  }
 },
 "nbformat": 4,
 "nbformat_minor": 5
}
