{
 "cells": [
  {
   "cell_type": "code",
   "execution_count": 1,
   "id": "2a97a278",
   "metadata": {},
   "outputs": [],
   "source": [
    "import geopandas as gpd\n",
    "import matplotlib.pyplot as plt\n",
    "import folium\n",
    "from geopy.distance import geodesic\n",
    "from ipyleaflet import Map, TileLayer, Marker\n",
    "from ipywidgets import Label"
   ]
  },
  {
   "cell_type": "markdown",
   "id": "85c3cde8",
   "metadata": {},
   "source": [
    "# MAP INTERACTIONS\n",
    "The aim is to create a map object and on click to show the coordinates of the clicked place."
   ]
  },
  {
   "cell_type": "code",
   "execution_count": 17,
   "id": "cd8657c3",
   "metadata": {},
   "outputs": [
    {
     "data": {
      "application/vnd.jupyter.widget-view+json": {
       "model_id": "b6cd105f2f6540fb9f41a492f0175cb8",
       "version_major": 2,
       "version_minor": 0
      },
      "text/plain": [
       "Label(value='')"
      ]
     },
     "metadata": {},
     "output_type": "display_data"
    },
    {
     "data": {
      "application/vnd.jupyter.widget-view+json": {
       "model_id": "8a37b01d4a5a47f98f57bcc599633345",
       "version_major": 2,
       "version_minor": 0
      },
      "text/plain": [
       "Map(center=[0, 0], controls=(ZoomControl(options=['position', 'zoom_in_text', 'zoom_in_title', 'zoom_out_text'…"
      ]
     },
     "metadata": {},
     "output_type": "display_data"
    }
   ],
   "source": [
    "# Create a map object centered at coordinates (0,0) with an initial zoom level of 2\n",
    "map_obj = Map(center=(0, 0), zoom=2)\n",
    "\n",
    "# Create a label widget to display information about user interactions\n",
    "label = Label()\n",
    "\n",
    "# Display the label widget\n",
    "display(label)\n",
    "\n",
    "# Define a function to handle interactions on the map\n",
    "def handle_interactions(**kwargs):\n",
    "    # Check if the interaction type is a 'click' event\n",
    "    if kwargs.get(\"type\") == 'click':\n",
    "        # Retrieve the latitude and longitude from the click event\n",
    "        lat, lon = kwargs.get('coordinates')\n",
    "        \n",
    "        # Update the label text to show the coordinates of the clicked location\n",
    "        label.value = f\"Your localtion has the following coordinates: {lat}, {lon}\"\n",
    "        \n",
    "        # Create a marker at the clicked location\n",
    "        marker = Marker(location=(lat, lon))\n",
    "        \n",
    "        # Add the marker to the map\n",
    "        map_obj.add_layer(marker)\n",
    "\n",
    "# Attach the interaction handling function to the map object\n",
    "# This will trigger 'handle_interactions' function whenever there is an interaction on the map\n",
    "map_obj.on_interaction(handle_interactions)\n",
    "\n",
    "# Display the map object\n",
    "display(map_obj)"
   ]
  },
  {
   "cell_type": "code",
   "execution_count": null,
   "id": "965fa715",
   "metadata": {},
   "outputs": [],
   "source": []
  }
 ],
 "metadata": {
  "kernelspec": {
   "display_name": "Python 3 (ipykernel)",
   "language": "python",
   "name": "python3"
  },
  "language_info": {
   "codemirror_mode": {
    "name": "ipython",
    "version": 3
   },
   "file_extension": ".py",
   "mimetype": "text/x-python",
   "name": "python",
   "nbconvert_exporter": "python",
   "pygments_lexer": "ipython3",
   "version": "3.11.5"
  }
 },
 "nbformat": 4,
 "nbformat_minor": 5
}
